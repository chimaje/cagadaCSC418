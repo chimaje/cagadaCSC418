{
 "cells": [
  {
   "cell_type": "code",
   "execution_count": 3,
   "id": "4fdbdab8",
   "metadata": {},
   "outputs": [
    {
     "ename": "IndexError",
     "evalue": "invalid index to scalar variable.",
     "output_type": "error",
     "traceback": [
      "\u001b[1;31m---------------------------------------------------------------------------\u001b[0m",
      "\u001b[1;31mIndexError\u001b[0m                                Traceback (most recent call last)",
      "Cell \u001b[1;32mIn[3], line 16\u001b[0m\n\u001b[0;32m     14\u001b[0m \u001b[38;5;66;03m# Get output layers\u001b[39;00m\n\u001b[0;32m     15\u001b[0m layer_names \u001b[38;5;241m=\u001b[39m net\u001b[38;5;241m.\u001b[39mgetLayerNames()\n\u001b[1;32m---> 16\u001b[0m output_layers \u001b[38;5;241m=\u001b[39m [layer_names[i[\u001b[38;5;241m0\u001b[39m] \u001b[38;5;241m-\u001b[39m \u001b[38;5;241m1\u001b[39m] \u001b[38;5;28;01mfor\u001b[39;00m i \u001b[38;5;129;01min\u001b[39;00m net\u001b[38;5;241m.\u001b[39mgetUnconnectedOutLayers()]\n\u001b[0;32m     18\u001b[0m \u001b[38;5;66;03m# Function to detect objects in a frame\u001b[39;00m\n\u001b[0;32m     19\u001b[0m \u001b[38;5;28;01mdef\u001b[39;00m \u001b[38;5;21mdetect_objects\u001b[39m(frame):\n",
      "Cell \u001b[1;32mIn[3], line 16\u001b[0m, in \u001b[0;36m<listcomp>\u001b[1;34m(.0)\u001b[0m\n\u001b[0;32m     14\u001b[0m \u001b[38;5;66;03m# Get output layers\u001b[39;00m\n\u001b[0;32m     15\u001b[0m layer_names \u001b[38;5;241m=\u001b[39m net\u001b[38;5;241m.\u001b[39mgetLayerNames()\n\u001b[1;32m---> 16\u001b[0m output_layers \u001b[38;5;241m=\u001b[39m [layer_names[\u001b[43mi\u001b[49m\u001b[43m[\u001b[49m\u001b[38;5;241;43m0\u001b[39;49m\u001b[43m]\u001b[49m \u001b[38;5;241m-\u001b[39m \u001b[38;5;241m1\u001b[39m] \u001b[38;5;28;01mfor\u001b[39;00m i \u001b[38;5;129;01min\u001b[39;00m net\u001b[38;5;241m.\u001b[39mgetUnconnectedOutLayers()]\n\u001b[0;32m     18\u001b[0m \u001b[38;5;66;03m# Function to detect objects in a frame\u001b[39;00m\n\u001b[0;32m     19\u001b[0m \u001b[38;5;28;01mdef\u001b[39;00m \u001b[38;5;21mdetect_objects\u001b[39m(frame):\n",
      "\u001b[1;31mIndexError\u001b[0m: invalid index to scalar variable."
     ]
    }
   ],
   "source": [
    "import cv2\n",
    "import numpy as np\n",
    "import ipywidgets as widgets\n",
    "from IPython.display import display, clear_output\n",
    "from ipywidgets import Layout, FileUpload\n",
    "from io import BytesIO\n",
    "\n",
    "# Load pre-trained YOLO weights and configuration\n",
    "net = cv2.dnn.readNet('cfg/yolov3.weights', 'cfg/yolov3.cfg')\n",
    "classes = []\n",
    "with open('cfg/coco.names', 'r') as f:\n",
    "    classes = f.read().splitlines()\n",
    "\n",
    "# Get output layers\n",
    "layer_names = net.getLayerNames()\n",
    "output_layers = [layer_names[i[0] - 1] for i in net.getUnconnectedOutLayers()]\n",
    "# Get output layers\n",
    "output_layers = net.getUnconnectedOutLayersNames()\n",
    "\n",
    "# Convert layer indices to layer names\n",
    "output_layer_names = [layer_names[i[0] - 1] for i in output_layers]\n",
    "\n",
    "\n",
    "# Function to detect objects in a frame\n",
    "def detect_objects(frame):\n",
    "    blob = cv2.dnn.blobFromImage(frame, 1/255.0, (416, 416), swapRB=True, crop=False)\n",
    "    net.setInput(blob)\n",
    "    outputs = net.forward(output_layers)\n",
    "    for output in outputs:\n",
    "        for detection in output:\n",
    "            scores = detection[5:]\n",
    "            class_id = np.argmax(scores)\n",
    "            confidence = scores[class_id]\n",
    "            if confidence > 0.5:\n",
    "                center_x = int(detection[0] * frame.shape[1])\n",
    "                center_y = int(detection[1] * frame.shape[0])\n",
    "                w = int(detection[2] * frame.shape[1])\n",
    "                h = int(detection[3] * frame.shape[0])\n",
    "                cv2.rectangle(frame, (center_x - w // 2, center_y - h // 2), (center_x + w // 2, center_y + h // 2), (0, 255, 0), 2)\n",
    "                cv2.putText(frame, classes[class_id], (center_x, center_y), cv2.FONT_HERSHEY_SIMPLEX, 0.5, (0, 255, 0), 2)\n",
    "    return frame\n",
    "\n",
    "# Function to handle file upload and start object detection\n",
    "def start_detection(change):\n",
    "    clear_output()\n",
    "    file_contents = list(file_upload.value.values())[0]['content']\n",
    "    video_path = 'temp_video.mp4'\n",
    "    with open(video_path, 'wb') as f:\n",
    "        f.write(file_contents)\n",
    "    cap = cv2.VideoCapture(video_path)\n",
    "    while True:\n",
    "        ret, frame = cap.read()\n",
    "        if not ret:\n",
    "            break\n",
    "        frame = detect_objects(frame)\n",
    "        _, buffer = cv2.imencode('.jpg', frame)\n",
    "        display(widgets.Image(value=buffer.tobytes(), format='jpg'))\n",
    "        if cv2.waitKey(1) & 0xFF == ord('q'):\n",
    "            break\n",
    "    cap.release()\n",
    "    cv2.destroyAllWindows()\n",
    "\n",
    "# Create file upload widget\n",
    "file_upload = FileUpload(accept='.mp4', multiple=False)\n",
    "\n",
    "# Assign function to handle file upload\n",
    "file_upload.observe(start_detection, names='value')\n",
    "\n",
    "# Display file upload widget\n",
    "display(widgets.VBox([widgets.Label('Select video file (.mp4):'), file_upload]))\n"
   ]
  },
  {
   "cell_type": "code",
   "execution_count": null,
   "id": "1eb09a7d",
   "metadata": {},
   "outputs": [],
   "source": []
  }
 ],
 "metadata": {
  "kernelspec": {
   "display_name": "Python 3 (ipykernel)",
   "language": "python",
   "name": "python3"
  },
  "language_info": {
   "codemirror_mode": {
    "name": "ipython",
    "version": 3
   },
   "file_extension": ".py",
   "mimetype": "text/x-python",
   "name": "python",
   "nbconvert_exporter": "python",
   "pygments_lexer": "ipython3",
   "version": "3.10.9"
  }
 },
 "nbformat": 4,
 "nbformat_minor": 5
}
