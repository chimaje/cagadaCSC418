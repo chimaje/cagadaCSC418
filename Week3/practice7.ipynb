{
 "cells": [
  {
   "cell_type": "code",
   "execution_count": 1,
   "id": "8c96d11d",
   "metadata": {},
   "outputs": [
    {
     "data": {
      "text/plain": [
       "<function destroyAllWindows>"
      ]
     },
     "execution_count": 1,
     "metadata": {},
     "output_type": "execute_result"
    }
   ],
   "source": [
    "#importing libraries\n",
    "import cv2 as cv\n",
    "\n",
    "image = cv.imread('../image/sst.jpg')\n",
    "\n",
    "cv.imshow('Original', image)\n",
    "cv.waitKey(0)\n",
    "#Gaussian Blur\n",
    "Gaussian = cv.GaussianBlur(image,(7,7),0)\n",
    "cv.imshow('Gaussian Blurring ', Gaussian)\n",
    "cv.waitKey(0)\n",
    "\n",
    "#Median Blur\n",
    "median  = cv.medianBlur(image,5)\n",
    "cv.imshow('Median Blurring ', median)\n",
    "cv.waitKey(0)\n",
    "\n",
    "#Bilateral Blur\n",
    "bilateral  = cv.bilateralFilter(image,9,75,75)\n",
    "cv.imshow('Bilateral Blurring ', bilateral )\n",
    "cv.waitKey(0)\n",
    "\n",
    "cv.destroyAllWindows()"
   ]
  },
  {
   "cell_type": "code",
   "execution_count": null,
   "id": "51a56b02",
   "metadata": {},
   "outputs": [],
   "source": []
  }
 ],
 "metadata": {
  "kernelspec": {
   "display_name": "Python 3 (ipykernel)",
   "language": "python",
   "name": "python3"
  },
  "language_info": {
   "codemirror_mode": {
    "name": "ipython",
    "version": 3
   },
   "file_extension": ".py",
   "mimetype": "text/x-python",
   "name": "python",
   "nbconvert_exporter": "python",
   "pygments_lexer": "ipython3",
   "version": "3.10.9"
  }
 },
 "nbformat": 4,
 "nbformat_minor": 5
}
