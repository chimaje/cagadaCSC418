{
 "cells": [
  {
   "cell_type": "code",
   "execution_count": null,
   "id": "0f4dbf07",
   "metadata": {},
   "outputs": [],
   "source": [
    "import cv2\n",
    "\n",
    "\n",
    "image1 = cv2.imread('../image/Brainstorming-rafiki.png')\n",
    "image2 = cv2.imread('../image/Bus driver-pana.png')\n",
    "image1 = cv2.resize(image1,(500,400))\n",
    "image2 = cv2.resize(image2,(500,400))\n",
    "\n",
    "addImage = cv2.addWeighted(image1,0.5,image2,0.6,0)\n",
    "\n",
    "cv2.imshow('Weighted Image ', addImage)\n",
    "\n",
    "if cv2.waitKey(0) & 0xff ==27:\n",
    "    cv2.destroyAllWindows()\n"
   ]
  },
  {
   "cell_type": "code",
   "execution_count": null,
   "id": "06685752",
   "metadata": {},
   "outputs": [],
   "source": []
  }
 ],
 "metadata": {
  "kernelspec": {
   "display_name": "Python 3 (ipykernel)",
   "language": "python",
   "name": "python3"
  },
  "language_info": {
   "codemirror_mode": {
    "name": "ipython",
    "version": 3
   },
   "file_extension": ".py",
   "mimetype": "text/x-python",
   "name": "python",
   "nbconvert_exporter": "python",
   "pygments_lexer": "ipython3",
   "version": "3.10.9"
  }
 },
 "nbformat": 4,
 "nbformat_minor": 5
}
