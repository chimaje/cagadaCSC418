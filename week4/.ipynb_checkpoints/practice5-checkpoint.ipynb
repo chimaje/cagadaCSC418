{
 "cells": [
  {
   "cell_type": "code",
   "execution_count": 1,
   "id": "2e46b0b8",
   "metadata": {},
   "outputs": [],
   "source": [
    "#Canny edge detection\n",
    "\n",
    "import cv2\n",
    "\n",
    "image = cv2.imread('../image/wole.jpeg',cv2.IMREAD_GRAYSCALE)\n",
    "\n",
    "image = cv2.resize(image,(400,400))\n",
    " \n",
    "#apply edge detection\n",
    "\n",
    "edges = cv2.Canny(image,100,200)\n",
    "\n",
    "cv2.imshow('original',image)\n",
    "cv2.imshow('edges',edges)\n",
    "\n",
    "cv2.waitKey(0)\n",
    "cv2.destroyAllWindows()"
   ]
  },
  {
   "cell_type": "code",
   "execution_count": null,
   "id": "b0926f71",
   "metadata": {},
   "outputs": [],
   "source": []
  }
 ],
 "metadata": {
  "kernelspec": {
   "display_name": "Python 3 (ipykernel)",
   "language": "python",
   "name": "python3"
  },
  "language_info": {
   "codemirror_mode": {
    "name": "ipython",
    "version": 3
   },
   "file_extension": ".py",
   "mimetype": "text/x-python",
   "name": "python",
   "nbconvert_exporter": "python",
   "pygments_lexer": "ipython3",
   "version": "3.10.9"
  }
 },
 "nbformat": 4,
 "nbformat_minor": 5
}
