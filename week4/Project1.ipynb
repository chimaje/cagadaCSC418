{
 "cells": [
  {
   "cell_type": "code",
   "execution_count": null,
   "id": "4b09f0ba",
   "metadata": {},
   "outputs": [],
   "source": [
    "import cv2\n",
    "import numpy as np\n",
    "\n",
    "def apply_edge_operator(image, operator):\n",
    "    if operator == 'Sobel':\n",
    "        edges = cv2.Sobel(image, cv2.CV_64F, 1, 1, ksize=5)\n",
    "    elif operator == 'Scharr':\n",
    "        edges = cv2.Scharr(image, cv2.CV_64F, 1, 0)\n",
    "    elif operator == 'Laplacian':\n",
    "        edges = cv2.Laplacian(image, cv2.CV_64F)\n",
    "    elif operator == 'Canny':\n",
    "        edges = cv2.Canny(image, 100, 200)\n",
    "    else:\n",
    "        print(\"Invalid edge operator. Available options are: Sobel, Scharr, Laplacian, Canny\")\n",
    "        return None\n",
    "    return edges\n",
    "\n",
    "def main():\n",
    "    # Load the image captured by the camera mounted on a tripod\n",
    "    image = cv2.imread('../image/wole.jpeg', cv2.IMREAD_GRAYSCALE)\n",
    "    \n",
    "    # Check if the image is loaded successfully\n",
    "    if image is None:\n",
    "        print(\"Error: Image not found.\")\n",
    "        return\n",
    "    \n",
    "    # Loop to allow users to choose edge operators\n",
    "    while True:\n",
    "        print(\"\\nChoose an edge detection operator:\")\n",
    "        print(\"1. Sobel\")\n",
    "        print(\"2. Scharr\")\n",
    "        print(\"3. Laplacian\")\n",
    "        print(\"4. Canny\")\n",
    "        print(\"5. Exit\")\n",
    "        choice = input(\"Enter your choice (1-5): \")\n",
    "\n",
    "        if choice == '5':\n",
    "            print(\"Exiting...\")\n",
    "            break\n",
    "\n",
    "        if choice in ['1', '2', '3', '4']:\n",
    "            operator = ['Sobel', 'Scharr', 'Laplacian', 'Canny'][int(choice) - 1]\n",
    "            edges = apply_edge_operator(image, operator)\n",
    "\n",
    "            if edges is not None:\n",
    "                # Display the original image and the edges detected\n",
    "                cv2.imshow(\"Original Image\", image)\n",
    "                cv2.imshow(\"Edges (\" + operator + \")\", np.uint8(edges))\n",
    "                cv2.waitKey(0)\n",
    "                cv2.destroyAllWindows()\n",
    "        else:\n",
    "            print(\"Invalid choice. Please enter a number between 1 and 5.\")\n",
    "\n",
    "# Call the main function directly\n",
    "main()\n"
   ]
  }
 ],
 "metadata": {
  "kernelspec": {
   "display_name": "Python 3 (ipykernel)",
   "language": "python",
   "name": "python3"
  },
  "language_info": {
   "codemirror_mode": {
    "name": "ipython",
    "version": 3
   },
   "file_extension": ".py",
   "mimetype": "text/x-python",
   "name": "python",
   "nbconvert_exporter": "python",
   "pygments_lexer": "ipython3",
   "version": "3.10.9"
  }
 },
 "nbformat": 4,
 "nbformat_minor": 5
}
