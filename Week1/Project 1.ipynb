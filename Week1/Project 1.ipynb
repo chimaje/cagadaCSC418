{
 "cells": [
  {
   "cell_type": "code",
   "execution_count": null,
   "id": "344c6639",
   "metadata": {},
   "outputs": [],
   "source": [
    "import cv2\n",
    "\n",
    "# Load pre-trained face detection model\n",
    "face_cascade = cv2.CascadeClassifier(cv2.data.haarcascades + 'haarcascade_frontalface_default.xml')\n",
    "\n",
    "# Function to detect faces in an image\n",
    "def detect_faces(image):\n",
    "    gray = cv2.cvtColor(image, cv2.COLOR_BGR2GRAY)\n",
    "    faces = face_cascade.detectMultiScale(gray, scaleFactor=1.1, minNeighbors=5, minSize=(30, 30))\n",
    "    return faces\n",
    "\n",
    "# Function to authenticate user based on facial recognition\n",
    "def authenticate_user(username, password, image_path):\n",
    "    img = cv2.imread(image_path)\n",
    "    faces = detect_faces(img)\n",
    "    \n",
    "    # Assuming only one face per image\n",
    "    if len(faces) == 1:\n",
    "        # Extracting profile details\n",
    "        first_name = username.capitalize()\n",
    "        surname = password.lower()\n",
    "        expected_surname_length = len(surname)\n",
    "        \n",
    "        # Authenticating user based on facial recognition and password criteria\n",
    "        # Add logic here to compare detected faces with known UMC members' images\n",
    "        \n",
    "        if len(faces) == 1 and len(surname) == expected_surname_length:\n",
    "            print(\"User authenticated successfully!\")\n",
    "            # Display profile details of the authenticated user\n",
    "            # Add logic here to display the profile details from the corresponding image\n",
    "        else:\n",
    "            print(\"Authentication failed.\")\n",
    "    else:\n",
    "        print(\"No face detected or multiple faces detected.\")\n",
    "\n",
    "# Example usage\n",
    "username = input(\"Enter username (first name): \")\n",
    "surname = input(\"Enter password (sum of alphabets in surname): \")\n",
    "image_path = 'path_to_user_image.jpg'  # Path to the user's image file\n",
    "authenticate_user(username, surname, image_path)\n"
   ]
  }
 ],
 "metadata": {
  "kernelspec": {
   "display_name": "Python 3 (ipykernel)",
   "language": "python",
   "name": "python3"
  },
  "language_info": {
   "codemirror_mode": {
    "name": "ipython",
    "version": 3
   },
   "file_extension": ".py",
   "mimetype": "text/x-python",
   "name": "python",
   "nbconvert_exporter": "python",
   "pygments_lexer": "ipython3",
   "version": "3.10.9"
  }
 },
 "nbformat": 4,
 "nbformat_minor": 5
}
