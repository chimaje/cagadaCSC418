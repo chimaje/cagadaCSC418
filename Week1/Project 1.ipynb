{
 "cells": [
  {
   "cell_type": "code",
   "execution_count": null,
   "id": "344c6639",
   "metadata": {},
   "outputs": [],
   "source": []
  },
  {
   "cell_type": "code",
   "execution_count": 1,
   "id": "3e8735af",
   "metadata": {},
   "outputs": [
    {
     "name": "stdout",
     "output_type": "stream",
     "text": [
      "Login successful!\n"
     ]
    }
   ],
   "source": [
    "import os\n",
    "import cv2\n",
    "import face_recognition\n",
    "def calculate_password(surname):\n",
    "    return sum(1 for char in surname if char.isalpha())\n",
    "\n",
    "def facial_recognition(username, profile_img_folder, uploaded_img_path):\n",
    "    img_name = f\"{username}.jpg\"\n",
    "    profile_img_path = os.path.join(profile_img_folder, img_name)\n",
    "    if not os.path.exists(profile_img_path):\n",
    "        print(\"Profile image not found.\")\n",
    "        return False\n",
    "\n",
    "    profile_image = face_recognition.load_image_file(profile_img_path)\n",
    "    profile_face_encodings = face_recognition.face_encodings(profile_image)\n",
    "\n",
    "    if len(profile_face_encodings) == 0:\n",
    "        print(\"No face detected in profile image.\")\n",
    "        return False\n",
    "\n",
    "    uploaded_image = face_recognition.load_image_file(uploaded_img_path)\n",
    "    uploaded_face_encodings = face_recognition.face_encodings(uploaded_image)\n",
    "\n",
    "    if len(uploaded_face_encodings) == 0:\n",
    "        print(\"No face detected in uploaded image.\")\n",
    "        return False\n",
    "\n",
    "    for profile_encoding in profile_face_encodings:\n",
    "        for uploaded_encoding in uploaded_face_encodings:\n",
    "            similarity = face_recognition.face_distance([profile_encoding], uploaded_encoding)\n",
    "            if similarity < 0.6:\n",
    "                return True  \n",
    "\n",
    "    return False  \n",
    "\n",
    "def login(username, profile_img_folder, uploaded_img_path):\n",
    "    surname = username.split(\"_\")[-1]  # Assuming the format is first name_surname.jpg\n",
    "    password = calculate_password(surname)\n",
    "    if facial_recognition(username, profile_img_folder, uploaded_img_path):\n",
    "        print(\"Login successful!\")\n",
    "    else:\n",
    "        print(\"Facial recognition failed. Access denied.\")\n",
    "\n",
    "# Folder where profile images are stored\n",
    "profile_img_folder = \"Profile_image\"\n",
    "\n",
    "# Example username (first name) for testing\n",
    "username = \"Enase_Okonedo\"  # Change this to the actual username (first name)\n",
    "# Path to the uploaded image\n",
    "uploaded_img_path = \"Profile_image/Enase_Okonedo.jpg\"  # Change this to the path of the uploaded image\n",
    "\n",
    "# Run the login function\n",
    "login(username, profile_img_folder, uploaded_img_path)\n"
   ]
  },
  {
   "cell_type": "code",
   "execution_count": null,
   "id": "3340e87a",
   "metadata": {},
   "outputs": [],
   "source": []
  }
 ],
 "metadata": {
  "kernelspec": {
   "display_name": "Python 3 (ipykernel)",
   "language": "python",
   "name": "python3"
  },
  "language_info": {
   "codemirror_mode": {
    "name": "ipython",
    "version": 3
   },
   "file_extension": ".py",
   "mimetype": "text/x-python",
   "name": "python",
   "nbconvert_exporter": "python",
   "pygments_lexer": "ipython3",
   "version": "3.10.9"
  }
 },
 "nbformat": 4,
 "nbformat_minor": 5
}
