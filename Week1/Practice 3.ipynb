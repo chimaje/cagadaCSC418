{
 "cells": [
  {
   "cell_type": "code",
   "execution_count": 2,
   "id": "fb60a6e1",
   "metadata": {},
   "outputs": [
    {
     "name": "stdout",
     "output_type": "stream",
     "text": [
      "Before saving image\n",
      "['.git', '.ipynb_checkpoints', 'image', 'Week1']\n",
      "After saving image\n",
      "['.git', '.ipynb_checkpoints', 'Brainstorming-rafiki.png', 'image', 'Week1']\n",
      "Saved successfully\n"
     ]
    }
   ],
   "source": [
    "import cv2\n",
    "import os\n",
    "\n",
    "image_path = r'C:\\Users\\athen\\Documents\\Year 4\\2nd Semester\\CSC418\\cagadaCSC418\\image\\Brainstorming-rafiki.png'\n",
    "\n",
    "directory =r'C:\\Users\\athen\\Documents\\Year 4\\2nd Semester\\CSC418\\cagadaCSC418'\n",
    "\n",
    "img = cv2.imread(image_path,0)\n",
    "\n",
    "os.chdir(directory)\n",
    "\n",
    "print(\"Before saving image\")\n",
    "print(os.listdir(directory))\n",
    "\n",
    "filename = 'Brainstorming-rafiki.png'\n",
    "\n",
    "cv2.imwrite(filename,img)\n",
    "\n",
    "print(\"After saving image\")\n",
    "print(os.listdir(directory))\n",
    "\n",
    "print(\"Saved successfully\")"
   ]
  },
  {
   "cell_type": "code",
   "execution_count": null,
   "id": "9857cbae",
   "metadata": {},
   "outputs": [],
   "source": []
  }
 ],
 "metadata": {
  "kernelspec": {
   "display_name": "Python 3 (ipykernel)",
   "language": "python",
   "name": "python3"
  },
  "language_info": {
   "codemirror_mode": {
    "name": "ipython",
    "version": 3
   },
   "file_extension": ".py",
   "mimetype": "text/x-python",
   "name": "python",
   "nbconvert_exporter": "python",
   "pygments_lexer": "ipython3",
   "version": "3.10.9"
  }
 },
 "nbformat": 4,
 "nbformat_minor": 5
}
